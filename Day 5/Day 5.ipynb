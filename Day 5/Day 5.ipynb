{
 "cells": [
  {
   "cell_type": "code",
   "execution_count": 1,
   "id": "2eaf5f1c",
   "metadata": {},
   "outputs": [],
   "source": [
    "with open('day5test.txt', 'r') as file:\n",
    "    testinput = file.readlines()\n"
   ]
  },
  {
   "cell_type": "raw",
   "id": "b372260d",
   "metadata": {},
   "source": [
    "seeds: 79 14 55 13\n",
    "\n",
    "seed-to-soil map:\n",
    "50 98 2\n",
    "52 50 48\n",
    "\n",
    "soil-to-fertilizer map:\n",
    "0 15 37\n",
    "37 52 2\n",
    "39 0 15\n",
    "\n",
    "fertilizer-to-water map:\n",
    "49 53 8\n",
    "0 11 42\n",
    "42 0 7\n",
    "57 7 4\n",
    "\n",
    "water-to-light map:\n",
    "88 18 7\n",
    "18 25 70\n",
    "\n",
    "light-to-temperature map:\n",
    "45 77 23\n",
    "81 45 19\n",
    "68 64 13\n",
    "\n",
    "temperature-to-humidity map:\n",
    "0 69 1\n",
    "1 0 69\n",
    "\n",
    "humidity-to-location map:\n",
    "60 56 37\n",
    "56 93 4"
   ]
  },
  {
   "cell_type": "code",
   "execution_count": 2,
   "id": "7bcff2a7",
   "metadata": {},
   "outputs": [],
   "source": [
    "with open('day5.txt', 'r') as file:\n",
    "    mapdata = file.readlines()"
   ]
  },
  {
   "cell_type": "code",
   "execution_count": 3,
   "id": "8508a1bc",
   "metadata": {},
   "outputs": [],
   "source": [
    "def create_map(mydict,data,index):\n",
    "    i = index+1\n",
    "    j = 1\n",
    "    while i < len(data) and data[i] != '\\n':\n",
    "        dest, source, diff = data[i].strip().split(' ')\n",
    "        diff, source, dest = int(diff), int(source), int(dest)    \n",
    "        mydict[j] = [(source, source+diff), (dest, dest+diff)]\n",
    "        i+=1\n",
    "        j+=1"
   ]
  },
  {
   "cell_type": "code",
   "execution_count": 24,
   "id": "01ff2e72",
   "metadata": {},
   "outputs": [],
   "source": [
    "def input_maps(data):\n",
    "    locations = []\n",
    "    seeds = []\n",
    "    seed_to_soil = {}\n",
    "    soil_to_fertilizer = {}\n",
    "    fertilizer_to_water = {}\n",
    "    water_to_light = {}\n",
    "    light_to_temp = {}\n",
    "    temp_to_humidity = {}\n",
    "    humidity_to_location = {}\n",
    "    \n",
    "    for index, line in enumerate(data):\n",
    "        if 'seeds' in line:\n",
    "            _, seeds_list = line.strip().split(':')\n",
    "            seeds = list(map(int, seeds_list.strip().split(' ')))\n",
    "        \n",
    "        elif 'seed-to-soil' in line:\n",
    "            create_map(seed_to_soil, data, index)\n",
    "        elif 'soil-to-fertilizer' in line:\n",
    "            create_map(soil_to_fertilizer, data, index)\n",
    "        elif 'fertilizer-to-water' in line:\n",
    "            create_map(fertilizer_to_water, data, index)\n",
    "        elif 'water-to-light' in line:\n",
    "            create_map(water_to_light,data,index)\n",
    "        elif 'light-to-temperature' in line:\n",
    "            create_map(light_to_temp, data ,index)\n",
    "        elif 'temperature-to-humidity' in line:\n",
    "            create_map(temp_to_humidity, data,index)\n",
    "        elif 'humidity-to-location' in line:\n",
    "            create_map(humidity_to_location,data,index)\n",
    "        else:\n",
    "            continue \n",
    "\n",
    "    \n",
    "    for i in range(0, len(seeds), 2):\n",
    "        seed = seeds[i]\n",
    "        length = seeds[i+1]\n",
    "        \n",
    "        while length > 0:\n",
    "            length -= 1\n",
    "            location = seed + length\n",
    "            \n",
    "            for _, val in seed_to_soil.items():\n",
    "                if location in range(*val[0]):\n",
    "                    location = val[1][0] + (location-val[0][0])\n",
    "                    break\n",
    "            for _, val in soil_to_fertilizer.items():\n",
    "                if location in range(*val[0]):\n",
    "                    location = val[1][0] + (location-val[0][0])\n",
    "                    break\n",
    "\n",
    "            for _, val in fertilizer_to_water.items():\n",
    "                if location in range(*val[0]):\n",
    "                    location = val[1][0] + (location-val[0][0])\n",
    "                    break\n",
    "            for _, val in water_to_light.items():\n",
    "                if location in range(*val[0]):\n",
    "                    location = val[1][0] + (location-val[0][0])\n",
    "                    break\n",
    "\n",
    "            for _, val in light_to_temp.items():\n",
    "                if location in range(*val[0]):\n",
    "                    location = val[1][0] + (location-val[0][0])\n",
    "                    break\n",
    "            for _, val in temp_to_humidity.items():\n",
    "                if location in range(*val[0]):\n",
    "                    location = val[1][0] + (location-val[0][0])\n",
    "                    break\n",
    "\n",
    "            for _, val in humidity_to_location.items():\n",
    "                if location in range(*val[0]):\n",
    "                    location = val[1][0] + (location-val[0][0])\n",
    "                    break\n",
    "\n",
    "            locations.append(location)\n",
    "\n",
    "    print(min(locations))"
   ]
  },
  {
   "cell_type": "code",
   "execution_count": 25,
   "id": "568c5b96",
   "metadata": {},
   "outputs": [
    {
     "name": "stdout",
     "output_type": "stream",
     "text": [
      "46\n"
     ]
    }
   ],
   "source": [
    "input_maps(testinput)"
   ]
  },
  {
   "cell_type": "code",
   "execution_count": null,
   "id": "74881033",
   "metadata": {
    "scrolled": true
   },
   "outputs": [],
   "source": [
    "input_maps(mapdata)"
   ]
  },
  {
   "cell_type": "code",
   "execution_count": null,
   "id": "1930b156",
   "metadata": {},
   "outputs": [],
   "source": [
    "79+14"
   ]
  }
 ],
 "metadata": {
  "kernelspec": {
   "display_name": "Python 3 (ipykernel)",
   "language": "python",
   "name": "python3"
  },
  "language_info": {
   "codemirror_mode": {
    "name": "ipython",
    "version": 3
   },
   "file_extension": ".py",
   "mimetype": "text/x-python",
   "name": "python",
   "nbconvert_exporter": "python",
   "pygments_lexer": "ipython3",
   "version": "3.11.4"
  }
 },
 "nbformat": 4,
 "nbformat_minor": 5
}

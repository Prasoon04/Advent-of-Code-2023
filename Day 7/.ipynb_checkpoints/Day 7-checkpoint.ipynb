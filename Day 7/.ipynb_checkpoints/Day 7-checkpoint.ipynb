{
 "cells": [
  {
   "cell_type": "code",
   "execution_count": 1,
   "id": "bab9f510",
   "metadata": {},
   "outputs": [],
   "source": [
    "with open('day7.txt', 'r') as file:\n",
    "    Input_data = file.read().strip().split('\\n')"
   ]
  },
  {
   "cell_type": "code",
   "execution_count": 2,
   "id": "961658b0",
   "metadata": {},
   "outputs": [],
   "source": [
    "with open('day7test.txt', 'r') as file:\n",
    "    testdata = file.read().strip().split('\\n')"
   ]
  },
  {
   "cell_type": "code",
   "execution_count": 3,
   "id": "4ee63ebc",
   "metadata": {},
   "outputs": [],
   "source": [
    "def hand_type(hand):\n",
    "\n",
    "    if len(set(hand)) == 1:\n",
    "        return 6\n",
    "    elif any(hand.count(card) == 4 for card in hand):\n",
    "        return 5\n",
    "    elif any(hand.count(card) == 3 for card in hand) and any(hand.count(card) == 2 for card in hand):\n",
    "        return 4\n",
    "    elif any(hand.count(card) == 3 for card in hand):\n",
    "        return 3\n",
    "    elif sum(hand.count(card) == 2 for card in hand) == 4:\n",
    "        return 2\n",
    "    elif any(hand.count(card) == 2 for card in hand):\n",
    "        return 1\n",
    "    else:\n",
    "        return 0 \n",
    "    "
   ]
  },
  {
   "cell_type": "code",
   "execution_count": 4,
   "id": "4f9ddcaf",
   "metadata": {},
   "outputs": [],
   "source": [
    "ch_map = {'T':'A','J':'B','Q':'C','K':'D','A':'E'}"
   ]
  },
  {
   "cell_type": "code",
   "execution_count": 5,
   "id": "fd2c4e24",
   "metadata": {},
   "outputs": [],
   "source": [
    "def sort_order(hand):\n",
    "    return (hand_type(hand), [ch_map.get(card, card) for card in hand])"
   ]
  },
  {
   "cell_type": "code",
   "execution_count": 6,
   "id": "9977a7db",
   "metadata": {},
   "outputs": [],
   "source": [
    "\n",
    "def sol1(data):\n",
    "    hand_map = {}\n",
    "    for line in data:\n",
    "        hand, bid = line.strip().split(' ')\n",
    "        hand_map[hand] = int(bid)\n",
    "\n",
    "    \n",
    "    hand_map = dict(sorted(hand_map.items(), key = lambda hand:sort_order(hand[0])))\n",
    "\n",
    "    rank = 1\n",
    "    ans = 0\n",
    "    for rank, (_, bid) in enumerate(hand_map.items(), 1):\n",
    "        ans += rank*bid\n",
    "\n",
    "    return ans\n",
    "  "
   ]
  },
  {
   "cell_type": "code",
   "execution_count": 7,
   "id": "896cac02",
   "metadata": {},
   "outputs": [
    {
     "data": {
      "text/plain": [
       "6440"
      ]
     },
     "execution_count": 7,
     "metadata": {},
     "output_type": "execute_result"
    }
   ],
   "source": [
    "sol1(testdata)"
   ]
  },
  {
   "cell_type": "code",
   "execution_count": 8,
   "id": "ada2d9ce",
   "metadata": {
    "scrolled": false
   },
   "outputs": [
    {
     "data": {
      "text/plain": [
       "253638586"
      ]
     },
     "execution_count": 8,
     "metadata": {},
     "output_type": "execute_result"
    }
   ],
   "source": [
    "sol1(Input_data)"
   ]
  },
  {
   "cell_type": "code",
   "execution_count": 9,
   "id": "a7589c25",
   "metadata": {},
   "outputs": [],
   "source": [
    "ch_map2 = {'T':'A','J':'/','Q':'C','K':'D','A':'E'}"
   ]
  },
  {
   "cell_type": "code",
   "execution_count": 10,
   "id": "2e2b6afd",
   "metadata": {},
   "outputs": [],
   "source": [
    "def Jchecks(hand):\n",
    "    if hand == \"\":\n",
    "        return [\"\"]\n",
    "    return[\n",
    "        x+y\n",
    "        for x in ('23456789TQKA' if hand[0] =='J' else hand[0])\n",
    "        for y in Jchecks(hand[1:])\n",
    "    ]\n",
    "\n",
    "def mapping(hand):\n",
    "    return max(map(hand_type, Jchecks(hand)))"
   ]
  },
  {
   "cell_type": "code",
   "execution_count": 11,
   "id": "f60ca2b4",
   "metadata": {},
   "outputs": [],
   "source": [
    "def sort_order2(hand):\n",
    "    return (mapping(hand), [ch_map2.get(card, card) for card in hand])"
   ]
  },
  {
   "cell_type": "code",
   "execution_count": 12,
   "id": "f0393032",
   "metadata": {},
   "outputs": [],
   "source": [
    "def sol2(data):\n",
    "    hand_map = {}\n",
    "    for line in data:\n",
    "        hand, bid = line.strip().split(' ')\n",
    "        hand_map[hand] = int(bid)\n",
    "\n",
    "    \n",
    "    hand_map = dict(sorted(hand_map.items(), key = lambda hand:sort_order2(hand[0])))\n",
    "\n",
    "    ans = 0\n",
    "    for rank, (_, bid) in enumerate(hand_map.items(), 1):\n",
    "        ans += rank*bid\n",
    "\n",
    "    return ans"
   ]
  },
  {
   "cell_type": "code",
   "execution_count": 13,
   "id": "d169a98b",
   "metadata": {},
   "outputs": [
    {
     "data": {
      "text/plain": [
       "5905"
      ]
     },
     "execution_count": 13,
     "metadata": {},
     "output_type": "execute_result"
    }
   ],
   "source": [
    "sol2(testdata)"
   ]
  },
  {
   "cell_type": "code",
   "execution_count": 14,
   "id": "68a82679",
   "metadata": {},
   "outputs": [
    {
     "data": {
      "text/plain": [
       "253253225"
      ]
     },
     "execution_count": 14,
     "metadata": {},
     "output_type": "execute_result"
    }
   ],
   "source": [
    "sol2(Input_data)"
   ]
  },
  {
   "cell_type": "code",
   "execution_count": null,
   "id": "93149b2b",
   "metadata": {},
   "outputs": [],
   "source": []
  }
 ],
 "metadata": {
  "kernelspec": {
   "display_name": "Python 3 (ipykernel)",
   "language": "python",
   "name": "python3"
  },
  "language_info": {
   "codemirror_mode": {
    "name": "ipython",
    "version": 3
   },
   "file_extension": ".py",
   "mimetype": "text/x-python",
   "name": "python",
   "nbconvert_exporter": "python",
   "pygments_lexer": "ipython3",
   "version": "3.11.4"
  }
 },
 "nbformat": 4,
 "nbformat_minor": 5
}

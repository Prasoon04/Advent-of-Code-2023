{
 "cells": [
  {
   "cell_type": "code",
   "execution_count": 81,
   "id": "4ad3e651",
   "metadata": {},
   "outputs": [],
   "source": [
    "import heapq"
   ]
  },
  {
   "cell_type": "code",
   "execution_count": 82,
   "id": "bab9f510",
   "metadata": {},
   "outputs": [],
   "source": [
    "with open('day7.txt', 'r') as file:\n",
    "    Input_data = file.read().strip().split('\\n')"
   ]
  },
  {
   "cell_type": "code",
   "execution_count": 83,
   "id": "961658b0",
   "metadata": {},
   "outputs": [],
   "source": [
    "with open('day7test.txt', 'r') as file:\n",
    "    testdata = file.read().strip().split('\\n')"
   ]
  },
  {
   "cell_type": "code",
   "execution_count": 87,
   "id": "02c7dd1f",
   "metadata": {},
   "outputs": [],
   "source": [
    "def hand_type(hand):\n",
    "    card_order = '23456789TJQKA'\n",
    "    total = 0\n",
    "    multiplier = 10000\n",
    "\n",
    "    for card in hand:\n",
    "        ch = card_order.index(card)\n",
    "        total += ch*multiplier\n",
    "        multiplier = multiplier//10\n",
    "\n",
    "    if len(set(hand)) == 1:\n",
    "        FioK.append((total, hand))\n",
    "    elif any(hand.count(card) == 4 for card in hand):\n",
    "        FooK.append((total, hand))\n",
    "    elif any(hand.count(card) == 3 for card in hand) and any(hand.count(card) == 2 for card in hand):\n",
    "        FH.append((total, hand))\n",
    "    elif any(hand.count(card) == 3 for card in hand):\n",
    "        ToK.append((total, hand))\n",
    "    elif sum(hand.count(card) == 2 for card in hand) == 4:\n",
    "        TP.append((total, hand))\n",
    "    elif any(hand.count(card) == 2 for card in hand):\n",
    "        OP.append((total, hand))\n",
    "    else:\n",
    "        HC.append((total, hand))\n",
    "    return\n",
    "    "
   ]
  },
  {
   "cell_type": "code",
   "execution_count": 94,
   "id": "311ce747",
   "metadata": {},
   "outputs": [],
   "source": [
    "FioK = []\n",
    "FooK = []\n",
    "FH = []\n",
    "ToK = []\n",
    "TP = []\n",
    "OP = []\n",
    "HC = []\n",
    "hand_lists = [HC, OP, TP, ToK, FH, FooK, FioK]\n",
    "\n",
    "def sol1(data):\n",
    "    hand_map = {}\n",
    "    for line in data:\n",
    "        hand, bid = line.strip().split(' ')\n",
    "#         print(hand,bid)\n",
    "        hand_map[hand] = int(bid)\n",
    "\n",
    "    \n",
    "    for hand in hand_map:\n",
    "        hand_type(hand)\n",
    "#         print(hand)\n",
    "    \n",
    "    for my_list in hand_lists:\n",
    "        heapq.heapify(my_list)\n",
    "\n",
    "    rank = 1\n",
    "    ans = 0\n",
    "    for my_list in hand_lists:\n",
    "\n",
    "        while my_list:\n",
    "            heapval, hand = heapq.heappop(my_list)\n",
    "            bid = hand_map[hand]\n",
    "\n",
    "            ans += (bid * rank)\n",
    "            rank += 1\n",
    "        print(ans)\n",
    "\n",
    "    return ans\n",
    "  "
   ]
  },
  {
   "cell_type": "code",
   "execution_count": 95,
   "id": "4d2b9f68",
   "metadata": {},
   "outputs": [
    {
     "name": "stdout",
     "output_type": "stream",
     "text": [
      "0\n",
      "765\n",
      "1289\n",
      "6440\n",
      "6440\n",
      "6440\n",
      "6440\n"
     ]
    },
    {
     "data": {
      "text/plain": [
       "6440"
      ]
     },
     "execution_count": 95,
     "metadata": {},
     "output_type": "execute_result"
    }
   ],
   "source": [
    "sol1(testdata)"
   ]
  },
  {
   "cell_type": "code",
   "execution_count": 96,
   "id": "bb13937c",
   "metadata": {
    "scrolled": true
   },
   "outputs": [
    {
     "name": "stdout",
     "output_type": "stream",
     "text": [
      "11354119\n",
      "49859213\n",
      "96592845\n",
      "167245120\n",
      "213903863\n",
      "253571847\n",
      "253657847\n"
     ]
    },
    {
     "data": {
      "text/plain": [
       "253657847"
      ]
     },
     "execution_count": 96,
     "metadata": {},
     "output_type": "execute_result"
    }
   ],
   "source": [
    "sol1(Input_data)"
   ]
  },
  {
   "cell_type": "code",
   "execution_count": null,
   "id": "af07789e",
   "metadata": {},
   "outputs": [],
   "source": []
  },
  {
   "cell_type": "code",
   "execution_count": null,
   "id": "a68b36ad",
   "metadata": {},
   "outputs": [],
   "source": []
  }
 ],
 "metadata": {
  "kernelspec": {
   "display_name": "Python 3 (ipykernel)",
   "language": "python",
   "name": "python3"
  },
  "language_info": {
   "codemirror_mode": {
    "name": "ipython",
    "version": 3
   },
   "file_extension": ".py",
   "mimetype": "text/x-python",
   "name": "python",
   "nbconvert_exporter": "python",
   "pygments_lexer": "ipython3",
   "version": "3.11.4"
  }
 },
 "nbformat": 4,
 "nbformat_minor": 5
}

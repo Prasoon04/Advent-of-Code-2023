{
 "cells": [
  {
   "cell_type": "code",
   "execution_count": 1,
   "id": "6a56dc24",
   "metadata": {},
   "outputs": [],
   "source": [
    "import heapq"
   ]
  },
  {
   "cell_type": "code",
   "execution_count": 2,
   "id": "bab9f510",
   "metadata": {},
   "outputs": [],
   "source": [
    "with open('day7.txt', 'r') as file:\n",
    "    Input_data = file.read().strip().split('\\n')"
   ]
  },
  {
   "cell_type": "code",
   "execution_count": 34,
   "id": "961658b0",
   "metadata": {},
   "outputs": [],
   "source": [
    "with open('day7test.txt', 'r') as file:\n",
    "    testdata = file.read().strip().split('\\n')"
   ]
  },
  {
   "cell_type": "code",
   "execution_count": 44,
   "id": "3f1f8c4a",
   "metadata": {},
   "outputs": [],
   "source": [
    "def hand_type(hand):\n",
    "    card_order = '23456789TJQKA'\n",
    "    total = 0\n",
    "    multiplier = 10000\n",
    "    i = 0\n",
    "    for card in hand:\n",
    "        ch = card_order.index(card)\n",
    "        total += ch*multiplier\n",
    "        multiplier = multiplier//10\n",
    "\n",
    "    if len(set(hand)) == 1:\n",
    "        FioK.append((total, hand))\n",
    "    elif any(hand.count(card) == 4 for card in hand):\n",
    "        FooK.append((total, hand))\n",
    "    elif any(hand.count(card) == 3 for card in hand) and any(hand.count(card) == 2 for card in hand):\n",
    "        FH.append((total, hand))\n",
    "    elif any(hand.count(card) == 3 for card in hand):\n",
    "        ToK.append((total, hand))\n",
    "    elif sum(hand.count(card) == 2 for card in hand) == 4:\n",
    "        TP.append((total, hand))\n",
    "    elif any(hand.count(card) == 2 for card in hand):\n",
    "        OP.append((total, hand))\n",
    "    else:\n",
    "        HC.append((total, hand))\n",
    "    return\n",
    "    "
   ]
  },
  {
   "cell_type": "code",
   "execution_count": 78,
   "id": "f4744542",
   "metadata": {},
   "outputs": [],
   "source": [
    "FioK = []\n",
    "FooK = []\n",
    "FH = []\n",
    "ToK = []\n",
    "TP = []\n",
    "OP = []\n",
    "HC = []\n",
    "hand_lists = [HC, OP, TP, ToK, FH, FooK, FioK]\n",
    "\n",
    "def sol1(data):\n",
    "    hand_map = {}\n",
    "    for line in data:\n",
    "        hand, val = line.strip().split(' ')\n",
    "#         print(hand,val)\n",
    "        hand_map[hand] = int(val)\n",
    "\n",
    "    \n",
    "    for hand in hand_map:\n",
    "        hand_type(hand)\n",
    "#         print(hand)\n",
    "    \n",
    "    for my_list in hand_lists:\n",
    "        heapq.heapify(my_list)\n",
    "\n",
    "    rank = 1\n",
    "    ans = 0\n",
    "    for my_list in hand_lists:\n",
    "\n",
    "        while my_list:\n",
    "            heapval, hand = heapq.heappop(my_list)\n",
    "            hand_value = hand_map[hand]\n",
    "\n",
    "            ans += (hand_value * rank)\n",
    "            rank += 1\n",
    "#         print(rank)\n",
    "\n",
    "    return ans\n",
    "  "
   ]
  },
  {
   "cell_type": "code",
   "execution_count": 79,
   "id": "3298b136",
   "metadata": {},
   "outputs": [
    {
     "data": {
      "text/plain": [
       "6440"
      ]
     },
     "execution_count": 79,
     "metadata": {},
     "output_type": "execute_result"
    }
   ],
   "source": [
    "sol1(testdata)"
   ]
  },
  {
   "cell_type": "code",
   "execution_count": 80,
   "id": "3b31f3e5",
   "metadata": {
    "scrolled": true
   },
   "outputs": [
    {
     "data": {
      "text/plain": [
       "253657847"
      ]
     },
     "execution_count": 80,
     "metadata": {},
     "output_type": "execute_result"
    }
   ],
   "source": [
    "sol1(Input_data)"
   ]
  },
  {
   "cell_type": "code",
   "execution_count": null,
   "id": "5d9beb36",
   "metadata": {},
   "outputs": [],
   "source": []
  },
  {
   "cell_type": "code",
   "execution_count": null,
   "id": "f2b2bcab",
   "metadata": {},
   "outputs": [],
   "source": []
  }
 ],
 "metadata": {
  "kernelspec": {
   "display_name": "Python 3 (ipykernel)",
   "language": "python",
   "name": "python3"
  },
  "language_info": {
   "codemirror_mode": {
    "name": "ipython",
    "version": 3
   },
   "file_extension": ".py",
   "mimetype": "text/x-python",
   "name": "python",
   "nbconvert_exporter": "python",
   "pygments_lexer": "ipython3",
   "version": "3.11.4"
  }
 },
 "nbformat": 4,
 "nbformat_minor": 5
}

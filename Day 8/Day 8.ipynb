{
 "cells": [
  {
   "cell_type": "code",
   "execution_count": 1,
   "id": "9050a634",
   "metadata": {},
   "outputs": [],
   "source": [
    "import re\n",
    "import math"
   ]
  },
  {
   "cell_type": "code",
   "execution_count": 2,
   "id": "b9e35fce",
   "metadata": {},
   "outputs": [
    {
     "data": {
      "text/plain": [
       "['RL',\n",
       " '',\n",
       " 'AAA = (BBB, CCC)',\n",
       " 'BBB = (DDD, EEE)',\n",
       " 'CCC = (ZZZ, GGG)',\n",
       " 'DDD = (DDD, DDD)',\n",
       " 'EEE = (EEE, EEE)',\n",
       " 'GGG = (GGG, GGG)',\n",
       " 'ZZZ = (ZZZ, ZZZ)']"
      ]
     },
     "execution_count": 2,
     "metadata": {},
     "output_type": "execute_result"
    }
   ],
   "source": [
    "with open(\"testdata1.txt\", 'r') as file:\n",
    "    testinput1 = file.read().strip().split('\\n')\n",
    "testinput1"
   ]
  },
  {
   "cell_type": "code",
   "execution_count": 3,
   "id": "c72f7511",
   "metadata": {},
   "outputs": [
    {
     "data": {
      "text/plain": [
       "['LLR', '', 'AAA = (BBB, BBB)', 'BBB = (AAA, ZZZ)', 'ZZZ = (ZZZ, ZZZ)']"
      ]
     },
     "execution_count": 3,
     "metadata": {},
     "output_type": "execute_result"
    }
   ],
   "source": [
    "with open(\"testdata2.txt\", 'r') as file:\n",
    "    testinput2 = file.read().strip().split('\\n')\n",
    "testinput2"
   ]
  },
  {
   "cell_type": "code",
   "execution_count": 4,
   "id": "142d39a8",
   "metadata": {},
   "outputs": [
    {
     "data": {
      "text/plain": [
       "['LR',\n",
       " '',\n",
       " '11A = (11B, XXX)',\n",
       " '11B = (XXX, 11Z)',\n",
       " '11Z = (11B, XXX)',\n",
       " '22A = (22B, XXX)',\n",
       " '22B = (22C, 22C)',\n",
       " '22C = (22Z, 22Z)',\n",
       " '22Z = (22B, 22B)',\n",
       " 'XXX = (XXX, XXX)']"
      ]
     },
     "execution_count": 4,
     "metadata": {},
     "output_type": "execute_result"
    }
   ],
   "source": [
    "with open(\"testdata3.txt\", 'r') as file:\n",
    "    testinput3 = file.read().strip().split('\\n')\n",
    "testinput3"
   ]
  },
  {
   "cell_type": "code",
   "execution_count": 5,
   "id": "2099d4e7",
   "metadata": {},
   "outputs": [],
   "source": [
    "with open(\"input.txt\", 'r') as file:\n",
    "    data = file.read().strip().split('\\n')"
   ]
  },
  {
   "cell_type": "code",
   "execution_count": 6,
   "id": "4aefef11",
   "metadata": {},
   "outputs": [],
   "source": [
    "dirc = {'L': 0, 'R': 1}\n",
    "def sol1(data):\n",
    "    instructions = data[0]\n",
    "    \n",
    "    \n",
    "    network = {}\n",
    "    \n",
    "    for i in range(2,len(data)):\n",
    "        start, paths = data[i].strip().split('=')\n",
    "        network[start.strip()] = re.findall(r'\\b\\w+\\b',paths.strip())\n",
    "    curr = 'AAA'\n",
    "    \n",
    "    ans = 0\n",
    "    i = 0\n",
    "    while curr != 'ZZZ':\n",
    "        path = instructions[i]\n",
    "        curr = network[curr][dirc[path]]\n",
    "        i += 1\n",
    "        if i == len(instructions):\n",
    "            i = 0\n",
    "        ans += 1\n",
    "\n",
    "    return ans"
   ]
  },
  {
   "cell_type": "code",
   "execution_count": 7,
   "id": "89bd8ee2",
   "metadata": {
    "scrolled": false
   },
   "outputs": [
    {
     "data": {
      "text/plain": [
       "2"
      ]
     },
     "execution_count": 7,
     "metadata": {},
     "output_type": "execute_result"
    }
   ],
   "source": [
    "sol1(testinput1)"
   ]
  },
  {
   "cell_type": "code",
   "execution_count": 8,
   "id": "334683e7",
   "metadata": {},
   "outputs": [
    {
     "data": {
      "text/plain": [
       "6"
      ]
     },
     "execution_count": 8,
     "metadata": {},
     "output_type": "execute_result"
    }
   ],
   "source": [
    "sol1(testinput2)"
   ]
  },
  {
   "cell_type": "code",
   "execution_count": 9,
   "id": "e91d6d2d",
   "metadata": {},
   "outputs": [
    {
     "data": {
      "text/plain": [
       "19241"
      ]
     },
     "execution_count": 9,
     "metadata": {},
     "output_type": "execute_result"
    }
   ],
   "source": [
    "sol1(data)"
   ]
  },
  {
   "cell_type": "code",
   "execution_count": 10,
   "id": "4e79753f",
   "metadata": {},
   "outputs": [],
   "source": [
    "def lcm_of_two_numbers(x,y):\n",
    "    return abs(x*y)//math.gcd(x,y)"
   ]
  },
  {
   "cell_type": "code",
   "execution_count": 11,
   "id": "4be68125",
   "metadata": {},
   "outputs": [],
   "source": [
    "def lcm(nums):\n",
    "    result = 1\n",
    "    for num in nums:\n",
    "        result = lcm_of_two_numbers(result, num)\n",
    "    return result"
   ]
  },
  {
   "cell_type": "code",
   "execution_count": 12,
   "id": "e8f76909",
   "metadata": {},
   "outputs": [],
   "source": [
    "dirc = {'L': 0, 'R': 1}\n",
    "def sol2(data):\n",
    "    instructions = data[0]\n",
    "    \n",
    "    network = {}\n",
    "    \n",
    "    for i in range(2,len(data)):\n",
    "        start, paths = data[i].strip().split('=')\n",
    "        network[start.strip()] = re.findall(r'\\b\\w+\\b',paths.strip())\n",
    "    \n",
    "    nodes_ending_with_A = [key for key in network.keys() if key.endswith('A')]\n",
    "    dest_list = [0] * len(nodes_ending_with_A)\n",
    "\n",
    "    for ind, curr in enumerate(nodes_ending_with_A):\n",
    "        i = 0\n",
    "        steps = 0\n",
    "        while curr != 'ZZZ':\n",
    "            path = instructions[i]\n",
    "            curr = network[curr][dirc[path]]\n",
    "            i += 1\n",
    "            if i == len(instructions):\n",
    "                i = 0\n",
    "            steps += 1\n",
    "            if curr.endswith('Z'):\n",
    "                break\n",
    "        dest_list[ind] = steps\n",
    "\n",
    "    return lcm(dest_list)"
   ]
  },
  {
   "cell_type": "code",
   "execution_count": 13,
   "id": "e8207a41",
   "metadata": {},
   "outputs": [
    {
     "data": {
      "text/plain": [
       "6"
      ]
     },
     "execution_count": 13,
     "metadata": {},
     "output_type": "execute_result"
    }
   ],
   "source": [
    "sol2(testinput3)"
   ]
  },
  {
   "cell_type": "code",
   "execution_count": 14,
   "id": "460b3047",
   "metadata": {},
   "outputs": [
    {
     "data": {
      "text/plain": [
       "9606140307013"
      ]
     },
     "execution_count": 14,
     "metadata": {},
     "output_type": "execute_result"
    }
   ],
   "source": [
    "sol2(data)"
   ]
  }
 ],
 "metadata": {
  "kernelspec": {
   "display_name": "Python 3 (ipykernel)",
   "language": "python",
   "name": "python3"
  },
  "language_info": {
   "codemirror_mode": {
    "name": "ipython",
    "version": 3
   },
   "file_extension": ".py",
   "mimetype": "text/x-python",
   "name": "python",
   "nbconvert_exporter": "python",
   "pygments_lexer": "ipython3",
   "version": "3.11.4"
  }
 },
 "nbformat": 4,
 "nbformat_minor": 5
}

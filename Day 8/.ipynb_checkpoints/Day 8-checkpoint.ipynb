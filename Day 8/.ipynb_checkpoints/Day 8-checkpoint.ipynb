{
 "cells": [
  {
   "cell_type": "code",
   "execution_count": 1,
   "id": "ef6db765",
   "metadata": {},
   "outputs": [],
   "source": [
    "import re\n",
    "import math"
   ]
  },
  {
   "cell_type": "code",
   "execution_count": 2,
   "id": "d6b84bfe",
   "metadata": {},
   "outputs": [
    {
     "data": {
      "text/plain": [
       "['RL',\n",
       " '',\n",
       " 'AAA = (BBB, CCC)',\n",
       " 'BBB = (DDD, EEE)',\n",
       " 'CCC = (ZZZ, GGG)',\n",
       " 'DDD = (DDD, DDD)',\n",
       " 'EEE = (EEE, EEE)',\n",
       " 'GGG = (GGG, GGG)',\n",
       " 'ZZZ = (ZZZ, ZZZ)']"
      ]
     },
     "execution_count": 2,
     "metadata": {},
     "output_type": "execute_result"
    }
   ],
   "source": [
    "with open(\"testdata1.txt\", 'r') as file:\n",
    "    testinput1 = file.read().strip().split('\\n')\n",
    "testinput1"
   ]
  },
  {
   "cell_type": "code",
   "execution_count": 3,
   "id": "664717bf",
   "metadata": {},
   "outputs": [
    {
     "data": {
      "text/plain": [
       "['LLR', '', 'AAA = (BBB, BBB)', 'BBB = (AAA, ZZZ)', 'ZZZ = (ZZZ, ZZZ)']"
      ]
     },
     "execution_count": 3,
     "metadata": {},
     "output_type": "execute_result"
    }
   ],
   "source": [
    "with open(\"testdata2.txt\", 'r') as file:\n",
    "    testinput2 = file.read().strip().split('\\n')\n",
    "testinput2"
   ]
  },
  {
   "cell_type": "code",
   "execution_count": 4,
   "id": "bead630a",
   "metadata": {},
   "outputs": [
    {
     "data": {
      "text/plain": [
       "['LR',\n",
       " '',\n",
       " '11A = (11B, XXX)',\n",
       " '11B = (XXX, 11Z)',\n",
       " '11Z = (11B, XXX)',\n",
       " '22A = (22B, XXX)',\n",
       " '22B = (22C, 22C)',\n",
       " '22C = (22Z, 22Z)',\n",
       " '22Z = (22B, 22B)',\n",
       " 'XXX = (XXX, XXX)']"
      ]
     },
     "execution_count": 4,
     "metadata": {},
     "output_type": "execute_result"
    }
   ],
   "source": [
    "with open(\"testdata3.txt\", 'r') as file:\n",
    "    testinput3 = file.read().strip().split('\\n')\n",
    "testinput3"
   ]
  },
  {
   "cell_type": "code",
   "execution_count": 5,
   "id": "935fd2cf",
   "metadata": {},
   "outputs": [],
   "source": [
    "with open(\"input.txt\", 'r') as file:\n",
    "    data = file.read().strip().split('\\n')"
   ]
  },
  {
   "cell_type": "code",
   "execution_count": 6,
   "id": "f25fa6f7",
   "metadata": {},
   "outputs": [],
   "source": [
    "dirc = {'L': 0, 'R': 1}\n",
    "def sol1(data):\n",
    "    instructions = data[0]\n",
    "    \n",
    "    \n",
    "    network = {}\n",
    "    \n",
    "    for i in range(2,len(data)):\n",
    "        start, paths = data[i].strip().split('=')\n",
    "        network[start.strip()] = re.findall(r'\\b\\w+\\b',paths.strip())\n",
    "    curr = 'AAA'\n",
    "    \n",
    "    ans = 0\n",
    "    i = 0\n",
    "    while curr != 'ZZZ':\n",
    "        path = instructions[i]\n",
    "        curr = network[curr][dirc[path]]\n",
    "        i += 1\n",
    "        if i == len(instructions):\n",
    "            i = 0\n",
    "        ans += 1\n",
    "\n",
    "    return ans"
   ]
  },
  {
   "cell_type": "code",
   "execution_count": 7,
   "id": "1aa33a31",
   "metadata": {
    "scrolled": false
   },
   "outputs": [
    {
     "data": {
      "text/plain": [
       "2"
      ]
     },
     "execution_count": 7,
     "metadata": {},
     "output_type": "execute_result"
    }
   ],
   "source": [
    "sol1(testinput1)"
   ]
  },
  {
   "cell_type": "code",
   "execution_count": 8,
   "id": "75dd7cdc",
   "metadata": {},
   "outputs": [
    {
     "data": {
      "text/plain": [
       "6"
      ]
     },
     "execution_count": 8,
     "metadata": {},
     "output_type": "execute_result"
    }
   ],
   "source": [
    "sol1(testinput2)"
   ]
  },
  {
   "cell_type": "code",
   "execution_count": 9,
   "id": "5eef11e6",
   "metadata": {},
   "outputs": [
    {
     "data": {
      "text/plain": [
       "19241"
      ]
     },
     "execution_count": 9,
     "metadata": {},
     "output_type": "execute_result"
    }
   ],
   "source": [
    "sol1(data)"
   ]
  },
  {
   "cell_type": "code",
   "execution_count": 10,
   "id": "d4bd1f87",
   "metadata": {},
   "outputs": [],
   "source": [
    "def lcm_of_two_numbers(x,y):\n",
    "    return abs(x*y)//math.gcd(x,y)"
   ]
  },
  {
   "cell_type": "code",
   "execution_count": 11,
   "id": "cd3b94a8",
   "metadata": {},
   "outputs": [],
   "source": [
    "def lcm(nums):\n",
    "    result = 1\n",
    "    for num in nums:\n",
    "        result = lcm_of_two_numbers(result, num)\n",
    "    return result"
   ]
  },
  {
   "cell_type": "code",
   "execution_count": 15,
   "id": "5d3ca3a8",
   "metadata": {},
   "outputs": [],
   "source": [
    "dirc = {'L': 0, 'R': 1}\n",
    "def sol2(data):\n",
    "    instructions = data[0]\n",
    "    \n",
    "    network = {}\n",
    "    \n",
    "    for i in range(2,len(data)):\n",
    "        start, paths = data[i].strip().split('=')\n",
    "        network[start.strip()] = re.findall(r'\\b\\w+\\b',paths.strip())\n",
    "    \n",
    "    nodes_ending_with_A = [key for key in network.keys() if key.endswith('A')]\n",
    "    dest_list = [0] * len(nodes_ending_with_A)\n",
    "\n",
    "    for ind, curr in enumerate(nodes_ending_with_A):\n",
    "        i = 0\n",
    "        steps = 0\n",
    "        while True:\n",
    "            path = instructions[i]\n",
    "            curr = network[curr][dirc[path]]\n",
    "            i += 1\n",
    "            if i == len(instructions):\n",
    "                i = 0\n",
    "            steps += 1\n",
    "            if curr.endswith('Z'):\n",
    "                break\n",
    "        dest_list[ind] = steps\n",
    "\n",
    "    return lcm(dest_list)"
   ]
  },
  {
   "cell_type": "code",
   "execution_count": 16,
   "id": "9e3b00f6",
   "metadata": {},
   "outputs": [
    {
     "data": {
      "text/plain": [
       "6"
      ]
     },
     "execution_count": 16,
     "metadata": {},
     "output_type": "execute_result"
    }
   ],
   "source": [
    "sol2(testinput3)"
   ]
  },
  {
   "cell_type": "code",
   "execution_count": 17,
   "id": "8d98038c",
   "metadata": {},
   "outputs": [
    {
     "data": {
      "text/plain": [
       "9606140307013"
      ]
     },
     "execution_count": 17,
     "metadata": {},
     "output_type": "execute_result"
    }
   ],
   "source": [
    "sol2(data)"
   ]
  }
 ],
 "metadata": {
  "kernelspec": {
   "display_name": "Python 3 (ipykernel)",
   "language": "python",
   "name": "python3"
  },
  "language_info": {
   "codemirror_mode": {
    "name": "ipython",
    "version": 3
   },
   "file_extension": ".py",
   "mimetype": "text/x-python",
   "name": "python",
   "nbconvert_exporter": "python",
   "pygments_lexer": "ipython3",
   "version": "3.11.4"
  }
 },
 "nbformat": 4,
 "nbformat_minor": 5
}

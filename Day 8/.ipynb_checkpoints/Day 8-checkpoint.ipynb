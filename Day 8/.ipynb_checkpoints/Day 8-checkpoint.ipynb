{
 "cells": [
  {
   "cell_type": "code",
   "execution_count": 41,
   "id": "91f406ae",
   "metadata": {},
   "outputs": [],
   "source": [
    "import re"
   ]
  },
  {
   "cell_type": "code",
   "execution_count": 109,
   "id": "7764829f",
   "metadata": {},
   "outputs": [
    {
     "data": {
      "text/plain": [
       "['RL',\n",
       " '',\n",
       " 'AAA = (BBB, CCC)',\n",
       " 'BBB = (DDD, EEE)',\n",
       " 'CCC = (ZZZ, GGG)',\n",
       " 'DDD = (DDD, DDD)',\n",
       " 'EEE = (EEE, EEE)',\n",
       " 'GGG = (GGG, GGG)',\n",
       " 'ZZZ = (ZZZ, ZZZ)']"
      ]
     },
     "execution_count": 109,
     "metadata": {},
     "output_type": "execute_result"
    }
   ],
   "source": [
    "with open(\"testdata1.txt\", 'r') as file:\n",
    "    testinput1 = file.read().strip().split('\\n')\n",
    "testinput1"
   ]
  },
  {
   "cell_type": "code",
   "execution_count": 110,
   "id": "fac06a97",
   "metadata": {},
   "outputs": [
    {
     "data": {
      "text/plain": [
       "['LLR', '', 'AAA = (BBB, BBB)', 'BBB = (AAA, ZZZ)', 'ZZZ = (ZZZ, ZZZ)']"
      ]
     },
     "execution_count": 110,
     "metadata": {},
     "output_type": "execute_result"
    }
   ],
   "source": [
    "with open(\"testdata2.txt\", 'r') as file:\n",
    "    testinput2 = file.read().strip().split('\\n')\n",
    "testinput2"
   ]
  },
  {
   "cell_type": "code",
   "execution_count": 111,
   "id": "fc631f4a",
   "metadata": {},
   "outputs": [],
   "source": [
    "with open(\"input.txt\", 'r') as file:\n",
    "    data = file.read().strip().split('\\n')"
   ]
  },
  {
   "cell_type": "code",
   "execution_count": 112,
   "id": "3accba4d",
   "metadata": {},
   "outputs": [],
   "source": [
    "dirc = {'L': 0, 'R': 1}\n",
    "def sol1(data):\n",
    "    instructions = data[0]\n",
    "    \n",
    "    \n",
    "    network = {}\n",
    "    \n",
    "    for i in range(2,len(data)):\n",
    "        start, paths = data[i].strip().split('=')\n",
    "        network[start.strip()] = re.findall(r'\\b\\w+\\b',paths.strip())\n",
    "    curr = 'AAA'\n",
    "    \n",
    "    ans = 0\n",
    "    i = 0\n",
    "    while curr != 'ZZZ':\n",
    "        path = instructions[i]\n",
    "        curr = network[curr][dirc[path]]\n",
    "        i += 1\n",
    "        if i == len(instructions):\n",
    "            i = 0\n",
    "        ans += 1\n",
    "\n",
    "    return ans"
   ]
  },
  {
   "cell_type": "code",
   "execution_count": 113,
   "id": "c2af79e6",
   "metadata": {
    "scrolled": false
   },
   "outputs": [
    {
     "data": {
      "text/plain": [
       "2"
      ]
     },
     "execution_count": 113,
     "metadata": {},
     "output_type": "execute_result"
    }
   ],
   "source": [
    "sol1(testinput1)"
   ]
  },
  {
   "cell_type": "code",
   "execution_count": 114,
   "id": "8d7336b3",
   "metadata": {},
   "outputs": [
    {
     "data": {
      "text/plain": [
       "6"
      ]
     },
     "execution_count": 114,
     "metadata": {},
     "output_type": "execute_result"
    }
   ],
   "source": [
    "sol1(testinput2)"
   ]
  },
  {
   "cell_type": "code",
   "execution_count": 115,
   "id": "2f8708df",
   "metadata": {},
   "outputs": [
    {
     "data": {
      "text/plain": [
       "19241"
      ]
     },
     "execution_count": 115,
     "metadata": {},
     "output_type": "execute_result"
    }
   ],
   "source": [
    "sol1(data)"
   ]
  },
  {
   "cell_type": "code",
   "execution_count": 120,
   "id": "c5d5ed52",
   "metadata": {},
   "outputs": [],
   "source": [
    "dirc = {'L': 0, 'R': 1}\n",
    "def sol2(data):\n",
    "    instructions = data[0]\n",
    "    \n",
    "    \n",
    "    network = {}\n",
    "    \n",
    "    for i in range(2,len(data)):\n",
    "        start, paths = data[i].strip().split('=')\n",
    "        network[start.strip()] = re.findall(r'\\b\\w+\\b',paths.strip())\n",
    "    \n",
    "    nodes_ending_with_A = [key for key in network.keys() if key.endswith('A')]\n",
    "    dest_list = [0] * len(nodes_ending_with_A)\n",
    "\n",
    "    for ind, curr in enumerate(nodes_ending_with_A):\n",
    "        i = 0\n",
    "        steps = 0\n",
    "        while curr != 'ZZZ':\n",
    "            path = instructions[i]\n",
    "            curr = network[curr][dirc[path]]\n",
    "            i += 1\n",
    "            if i == len(instructions):\n",
    "                i = 0\n",
    "            steps += 1\n",
    "            if curr.endswith('Z'):\n",
    "                break\n",
    "        dest_list[ind] = steps\n",
    "\n",
    "    return dest_list"
   ]
  },
  {
   "cell_type": "code",
   "execution_count": null,
   "id": "1d839f2f",
   "metadata": {},
   "outputs": [],
   "source": []
  },
  {
   "cell_type": "code",
   "execution_count": null,
   "id": "9aad830f",
   "metadata": {},
   "outputs": [],
   "source": []
  },
  {
   "cell_type": "code",
   "execution_count": null,
   "id": "a4fd2ad8",
   "metadata": {},
   "outputs": [],
   "source": []
  },
  {
   "cell_type": "code",
   "execution_count": null,
   "id": "d9f42ccf",
   "metadata": {},
   "outputs": [],
   "source": []
  },
  {
   "cell_type": "code",
   "execution_count": 104,
   "id": "0f76671a",
   "metadata": {},
   "outputs": [
    {
     "name": "stdout",
     "output_type": "stream",
     "text": [
      "Keys ending with 'A': ['appleA', 'orangeA']\n"
     ]
    }
   ],
   "source": [
    "my_dict = {'appleA': 1, 'banana': 2, 'orangeA': 3, 'grape': 4}\n",
    "\n",
    "# Using a list comprehension to find keys ending with 'A'\n",
    "keys_ending_with_A = [key for key in my_dict.keys() if key.endswith('A')]\n",
    "\n",
    "print(\"Keys ending with 'A':\", keys_ending_with_A)\n"
   ]
  },
  {
   "cell_type": "code",
   "execution_count": null,
   "id": "3b3fc0eb",
   "metadata": {},
   "outputs": [],
   "source": [
    "import math\n",
    "\n",
    "def lcm_of_two_numbers(x, y):\n",
    "    return abs(x * y) // math.gcd(x, y)\n",
    "\n",
    "def lcm_of_list(numbers):\n",
    "    result_lcm = 1\n",
    "    for num in numbers:\n",
    "        result_lcm = lcm_of_two_numbers(result_lcm, num)\n",
    "    return result_lcm\n",
    "\n",
    "# Example usage\n",
    "number_list = [4, 6, 8, 10]\n",
    "\n",
    "result = lcm_of_list(number_list)\n",
    "print(f\"LCM of {number_list}: {result}\")\n"
   ]
  },
  {
   "cell_type": "code",
   "execution_count": 119,
   "id": "5e03e9af",
   "metadata": {},
   "outputs": [
    {
     "data": {
      "text/plain": [
       "[0, 0, 0, 0]"
      ]
     },
     "execution_count": 119,
     "metadata": {},
     "output_type": "execute_result"
    }
   ],
   "source": [
    "an = ['svsvw','jgfbvs','gsggw','rfdhs']\n",
    "dn = [0]*len(an)\n",
    "dn\n"
   ]
  },
  {
   "cell_type": "code",
   "execution_count": null,
   "id": "fba0539f",
   "metadata": {},
   "outputs": [],
   "source": []
  }
 ],
 "metadata": {
  "kernelspec": {
   "display_name": "Python 3 (ipykernel)",
   "language": "python",
   "name": "python3"
  },
  "language_info": {
   "codemirror_mode": {
    "name": "ipython",
    "version": 3
   },
   "file_extension": ".py",
   "mimetype": "text/x-python",
   "name": "python",
   "nbconvert_exporter": "python",
   "pygments_lexer": "ipython3",
   "version": "3.11.4"
  }
 },
 "nbformat": 4,
 "nbformat_minor": 5
}

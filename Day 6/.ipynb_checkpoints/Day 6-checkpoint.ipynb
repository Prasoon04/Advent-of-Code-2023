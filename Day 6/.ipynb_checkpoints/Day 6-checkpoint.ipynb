{
 "cells": [
  {
   "cell_type": "code",
   "execution_count": 6,
   "id": "6d8c1c92",
   "metadata": {},
   "outputs": [],
   "source": [
    "with open('day6.txt', 'r') as file:\n",
    "    data = file.read().strip().split('\\n')"
   ]
  },
  {
   "cell_type": "code",
   "execution_count": 7,
   "id": "6653626d",
   "metadata": {},
   "outputs": [],
   "source": [
    "with open('day6test.txt', 'r') as file:\n",
    "    testdata = file.read().strip().split('\\n')"
   ]
  },
  {
   "cell_type": "markdown",
   "id": "54d14de4",
   "metadata": {},
   "source": [
    "Time:      7  15   30 \n",
    "\n",
    "Distance:  9  40  200"
   ]
  },
  {
   "cell_type": "code",
   "execution_count": 18,
   "id": "aa58f03f",
   "metadata": {},
   "outputs": [
    {
     "data": {
      "text/plain": [
       "'Time:      7  15   30'"
      ]
     },
     "execution_count": 18,
     "metadata": {},
     "output_type": "execute_result"
    }
   ],
   "source": [
    "testdata[0]"
   ]
  },
  {
   "cell_type": "code",
   "execution_count": 32,
   "id": "35d36f7e",
   "metadata": {},
   "outputs": [],
   "source": [
    "def line_split(line):\n",
    "    _, temp = line.strip().split(\":\")\n",
    "    return list(map(int,temp.strip().split()))"
   ]
  },
  {
   "cell_type": "code",
   "execution_count": 42,
   "id": "83ed0190",
   "metadata": {},
   "outputs": [],
   "source": [
    "def sol1(data):\n",
    "    time_list = line_split(data[0])\n",
    "    actual_time = int(''.join(map(str, time_list)))\n",
    "    dist_list = line_split(data[1])\n",
    "    actual_dist = int(''.join(map(str, dist_list)))\n",
    "    ans = 1\n",
    "\n",
    "    for ind, time in enumerate(time_list):\n",
    "        dist = dist_list[ind]\n",
    "        count = 0\n",
    "        curr = time\n",
    "        while curr > 0:\n",
    "            dist_travel = (time - curr) * curr\n",
    "            if dist_travel > dist:\n",
    "                count += 1\n",
    "            curr -= 1\n",
    "        ans *= count\n",
    "    count = 0    \n",
    "    actual_curr = actual_time\n",
    "    while actual_curr > 0:\n",
    "        dist_travel = (actual_time - actual_curr) * actual_curr\n",
    "        if dist_travel > actual_dist:\n",
    "            count += 1\n",
    "        actual_curr -= 1\n",
    "    \n",
    "    \n",
    "    \n",
    "    print(f\"Part 1 = {ans}. Part 2 = {count}\")"
   ]
  },
  {
   "cell_type": "code",
   "execution_count": 43,
   "id": "aa5f9661",
   "metadata": {},
   "outputs": [
    {
     "name": "stdout",
     "output_type": "stream",
     "text": [
      "Part 1 = 288. Part 2 = 71503\n"
     ]
    }
   ],
   "source": [
    "sol1(testdata)"
   ]
  },
  {
   "cell_type": "code",
   "execution_count": 44,
   "id": "f29ae71c",
   "metadata": {},
   "outputs": [
    {
     "name": "stdout",
     "output_type": "stream",
     "text": [
      "Part 1 = 345015. Part 2 = 42588603\n"
     ]
    }
   ],
   "source": [
    "sol1(data)"
   ]
  },
  {
   "cell_type": "code",
   "execution_count": null,
   "id": "dbaaa154",
   "metadata": {},
   "outputs": [],
   "source": []
  }
 ],
 "metadata": {
  "kernelspec": {
   "display_name": "Python 3 (ipykernel)",
   "language": "python",
   "name": "python3"
  },
  "language_info": {
   "codemirror_mode": {
    "name": "ipython",
    "version": 3
   },
   "file_extension": ".py",
   "mimetype": "text/x-python",
   "name": "python",
   "nbconvert_exporter": "python",
   "pygments_lexer": "ipython3",
   "version": "3.11.4"
  }
 },
 "nbformat": 4,
 "nbformat_minor": 5
}

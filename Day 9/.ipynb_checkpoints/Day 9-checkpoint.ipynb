{
 "cells": [
  {
   "cell_type": "code",
   "execution_count": 1,
   "id": "1469f1b3",
   "metadata": {
    "scrolled": true
   },
   "outputs": [],
   "source": [
    "with open('testinput.txt', 'r') as lines:\n",
    "    testdata = lines.read().strip().split('\\n')"
   ]
  },
  {
   "cell_type": "code",
   "execution_count": 2,
   "id": "6b5ca43e",
   "metadata": {},
   "outputs": [],
   "source": [
    "with open('input.txt', 'r') as lines:\n",
    "    data = lines.read().strip().split('\\n')"
   ]
  },
  {
   "cell_type": "code",
   "execution_count": 3,
   "id": "ebfee6e2",
   "metadata": {},
   "outputs": [],
   "source": [
    "def helper(nums):\n",
    "    if all(num == 0 for num in nums):\n",
    "        nums.append(0)\n",
    "        return nums\n",
    "\n",
    "    diff_nums = [nums[i+1] - nums[i] for i in range(len(nums)-1)]\n",
    "    diff_nums = helper(diff_nums)\n",
    "    num_append = nums[-1] + diff_nums[-1]\n",
    "\n",
    "    nums.append(num_append)\n",
    "    return nums"
   ]
  },
  {
   "cell_type": "code",
   "execution_count": 4,
   "id": "811b080a",
   "metadata": {},
   "outputs": [],
   "source": [
    "def sol1(data):\n",
    "    ans1, ans2 = 0, 0\n",
    "    for line in data:\n",
    "        nums = list(map(int, line.split()))\n",
    "        ans1 += helper(nums)[-1]\n",
    "        nums.reverse()\n",
    "        ans2 += helper(nums)[-1]\n",
    "    \n",
    "    return f\"Part1: {ans1}. Part2: {ans2}\""
   ]
  },
  {
   "cell_type": "code",
   "execution_count": 5,
   "id": "2f523edc",
   "metadata": {},
   "outputs": [
    {
     "data": {
      "text/plain": [
       "'Part1: 114. Part2: 2'"
      ]
     },
     "execution_count": 5,
     "metadata": {},
     "output_type": "execute_result"
    }
   ],
   "source": [
    "sol1(testdata)"
   ]
  },
  {
   "cell_type": "code",
   "execution_count": 6,
   "id": "45adc8aa",
   "metadata": {},
   "outputs": [
    {
     "data": {
      "text/plain": [
       "'Part1: 1898776583. Part2: 1100'"
      ]
     },
     "execution_count": 6,
     "metadata": {},
     "output_type": "execute_result"
    }
   ],
   "source": [
    "sol1(data)"
   ]
  }
 ],
 "metadata": {
  "kernelspec": {
   "display_name": "Python 3 (ipykernel)",
   "language": "python",
   "name": "python3"
  },
  "language_info": {
   "codemirror_mode": {
    "name": "ipython",
    "version": 3
   },
   "file_extension": ".py",
   "mimetype": "text/x-python",
   "name": "python",
   "nbconvert_exporter": "python",
   "pygments_lexer": "ipython3",
   "version": "3.11.4"
  }
 },
 "nbformat": 4,
 "nbformat_minor": 5
}

{
 "cells": [
  {
   "cell_type": "code",
   "execution_count": 1,
   "id": "ac71844d",
   "metadata": {},
   "outputs": [],
   "source": [
    "from collections import defaultdict"
   ]
  },
  {
   "cell_type": "code",
   "execution_count": 2,
   "id": "b2256028",
   "metadata": {},
   "outputs": [],
   "source": [
    "with open(\"day4.txt\", \"r\") as file:\n",
    "    games = file.readlines()"
   ]
  },
  {
   "cell_type": "code",
   "execution_count": 3,
   "id": "4726e78d",
   "metadata": {},
   "outputs": [],
   "source": [
    "input = [\"Card 1: 41 48 83 86 17 | 83 86  6 31 17  9 48 53\",\n",
    "\"Card 2: 13 32 20 16 61 | 61 30 68 82 17 32 24 19\",\n",
    "\"Card 3:  1 21 53 59 44 | 69 82 63 72 16 21 14  1\",\n",
    "\"Card 4: 41 92 73 84 69 | 59 84 76 51 58  5 54 83\",\n",
    "\"Card 5: 87 83 26 28 32 | 88 30 70 12 93 22 82 36\",\n",
    "\"Card 6: 31 18 13 56 72 | 74 77 10 23 35 67 36 11\"]"
   ]
  },
  {
   "cell_type": "code",
   "execution_count": 4,
   "id": "cc77b06a",
   "metadata": {},
   "outputs": [],
   "source": [
    "def find_win_nums(games):\n",
    "    result = 0\n",
    "    for i, game in enumerate(games):\n",
    "        \n",
    "        CN, codes_str = game.strip().split(':')\n",
    "        codes = codes_str.strip().split('|')\n",
    "        win_num = codes[0].strip().split(' ')\n",
    "        win_nums = [num.strip() for num in win_num if num]\n",
    "        my_num = codes[1].strip().split(' ')\n",
    "        my_nums = [num.strip() for num in my_num if num]\n",
    "\n",
    "        win_nums_set = set(map(int, win_nums))\n",
    "        my_nums_set = set(map(int, my_nums))\n",
    "\n",
    "        i = 0\n",
    "\n",
    "        for num in my_nums_set:\n",
    "            if num in win_nums_set:\n",
    "                i += 1\n",
    "\n",
    "        if i > 0:\n",
    "            result += (2**(i-1))\n",
    "    print(result)\n"
   ]
  },
  {
   "cell_type": "code",
   "execution_count": 5,
   "id": "55868ac8",
   "metadata": {},
   "outputs": [],
   "source": [
    "def find_win_nums2(games):\n",
    "    result = 0\n",
    "    card_map = {} \n",
    "    for ind, game in enumerate(games):\n",
    "        \n",
    "        CN, codes_str = game.strip().split(':')\n",
    "        codes = codes_str.strip().split('|')\n",
    "        win_num = codes[0].strip().split(' ')\n",
    "        win_nums = [num.strip() for num in win_num if num]\n",
    "        my_num = codes[1].strip().split(' ')\n",
    "        my_nums = [num.strip() for num in my_num if num]\n",
    "\n",
    "        win_nums_set = set(map(int, win_nums))\n",
    "        my_nums_set = set(map(int, my_nums))\n",
    "\n",
    "        i = 0\n",
    "\n",
    "        for num in my_nums_set:\n",
    "            if num in win_nums_set:\n",
    "                i += 1\n",
    "        if CN not in card_map:\n",
    "            card_map[CN] = 1\n",
    "        else:\n",
    "            card_map[CN] += 1\n",
    "        j = 1\n",
    "        while j < i+1:\n",
    "            game = games[ind+j]\n",
    "            CNN, _ = game.strip().split(':')\n",
    "            if CNN not in card_map:\n",
    "                card_map[CNN] = card_map[CN]\n",
    "            else:\n",
    "                card_map[CNN] += card_map[CN]\n",
    "            j += 1\n",
    "        \n",
    "    result = sum(card_map.values())\n",
    "    print(result)"
   ]
  },
  {
   "cell_type": "code",
   "execution_count": 6,
   "id": "75ca8c45",
   "metadata": {},
   "outputs": [
    {
     "name": "stdout",
     "output_type": "stream",
     "text": [
      "30\n"
     ]
    }
   ],
   "source": [
    "find_win_nums2(input)"
   ]
  },
  {
   "cell_type": "code",
   "execution_count": 7,
   "id": "3e264b15",
   "metadata": {},
   "outputs": [
    {
     "name": "stdout",
     "output_type": "stream",
     "text": [
      "6420979\n"
     ]
    }
   ],
   "source": [
    "find_win_nums2(games)"
   ]
  },
  {
   "cell_type": "markdown",
   "id": "ef4cbb9f",
   "metadata": {},
   "source": [
    "## Cleaner code"
   ]
  },
  {
   "cell_type": "code",
   "execution_count": 8,
   "id": "46668435",
   "metadata": {},
   "outputs": [],
   "source": [
    "def clean_and_split(s):\n",
    "    return [num.strip() for num in s.split(' ') if num]"
   ]
  },
  {
   "cell_type": "code",
   "execution_count": 9,
   "id": "d5673ca9",
   "metadata": {},
   "outputs": [],
   "source": [
    "def game_clean_and_split(s):\n",
    "    return s.strip().split(':')"
   ]
  },
  {
   "cell_type": "code",
   "execution_count": 10,
   "id": "8ebd9c47",
   "metadata": {},
   "outputs": [],
   "source": [
    "def find_win_nums(games):\n",
    "    result = 0\n",
    "    card_map = defaultdict(int)\n",
    "    for ind, game in enumerate(games):\n",
    "        CN, codes_str = game_clean_and_split(game)\n",
    "        win_nums, my_nums = map(clean_and_split, codes_str.split('|'))\n",
    "\n",
    "        win_nums_set = set(map(int, win_nums))\n",
    "        my_nums_set = set(map(int, my_nums))\n",
    "\n",
    "        common_nums = win_nums_set.intersection(my_nums_set)\n",
    "        common_count = len(common_nums)\n",
    "\n",
    "        card_map[CN] += 1\n",
    "        \n",
    "        for _, game in enumerate(games[ind+1:ind+common_count+1]):\n",
    "            CNN, _ = game_clean_and_split(game)\n",
    "            card_map[CNN] += card_map[CN]                \n",
    "        \n",
    "        if common_count > 0:\n",
    "            result += 2**(common_count - 1)\n",
    "\n",
    "    print(result,sum(card_map.values()))"
   ]
  },
  {
   "cell_type": "code",
   "execution_count": 11,
   "id": "b08b9707",
   "metadata": {},
   "outputs": [
    {
     "name": "stdout",
     "output_type": "stream",
     "text": [
      "25174 6420979\n"
     ]
    }
   ],
   "source": [
    "find_win_nums(games)"
   ]
  },
  {
   "cell_type": "code",
   "execution_count": 12,
   "id": "c72efd5b",
   "metadata": {},
   "outputs": [
    {
     "name": "stdout",
     "output_type": "stream",
     "text": [
      "13 30\n"
     ]
    }
   ],
   "source": [
    "find_win_nums(input)"
   ]
  }
 ],
 "metadata": {
  "kernelspec": {
   "display_name": "Python 3 (ipykernel)",
   "language": "python",
   "name": "python3"
  },
  "language_info": {
   "codemirror_mode": {
    "name": "ipython",
    "version": 3
   },
   "file_extension": ".py",
   "mimetype": "text/x-python",
   "name": "python",
   "nbconvert_exporter": "python",
   "pygments_lexer": "ipython3",
   "version": "3.11.4"
  }
 },
 "nbformat": 4,
 "nbformat_minor": 5
}

{
 "cells": [
  {
   "cell_type": "code",
   "execution_count": 80,
   "id": "07d9b731",
   "metadata": {},
   "outputs": [],
   "source": [
    "R = 12\n",
    "G = 13\n",
    "B = 14"
   ]
  },
  {
   "cell_type": "code",
   "execution_count": 81,
   "id": "b0cf69ce",
   "metadata": {},
   "outputs": [],
   "source": [
    "with open(\"day2.txt\", \"r\") as file:\n",
    "    games = file.readlines()"
   ]
  },
  {
   "cell_type": "code",
   "execution_count": 82,
   "id": "be763aa6",
   "metadata": {
    "scrolled": true
   },
   "outputs": [
    {
     "name": "stdout",
     "output_type": "stream",
     "text": [
      "2149\n"
     ]
    }
   ],
   "source": [
    "#Part 1\n",
    "ans = 0\n",
    "for game in games:\n",
    "\n",
    "    sets = game.strip().split(':')\n",
    "    gameID = int(sets[0].strip().split(' ')[1])\n",
    "    gamesets = sets[1].strip().split(';')\n",
    "    \n",
    "    for gameset in gamesets:\n",
    "        found = False\n",
    "        gameset = gameset.strip().split(',')\n",
    "        for gameval in gameset:\n",
    "            gameval = gameval.strip().split(' ')\n",
    "            if ((gameval[1]=='red' and  int(gameval[0])>R) or (gameval[1]=='blue' and  int(gameval[0])>B) or (gameval[1]=='green' and  int(gameval[0])>G)):\n",
    "                found = True\n",
    "                break\n",
    "        if found:\n",
    "            break\n",
    "    if found:\n",
    "        continue               \n",
    "    ans += gameID\n",
    "print(ans)\n",
    "        "
   ]
  },
  {
   "cell_type": "code",
   "execution_count": 83,
   "id": "efbe3124",
   "metadata": {},
   "outputs": [
    {
     "name": "stdout",
     "output_type": "stream",
     "text": [
      "71274\n"
     ]
    }
   ],
   "source": [
    "#Part 2\n",
    "\n",
    "ans = 0\n",
    "for game in games:\n",
    "\n",
    "    sets = game.strip().split(':')\n",
    "    gamesets = sets[1].strip().split(';')\n",
    "    r=g=b=0    \n",
    "    for gameset in gamesets:\n",
    "        gameset = gameset.strip().split(',')\n",
    "        for gameval in gameset:\n",
    "            gameval = gameval.strip().split(' ')\n",
    "            if gameval[1]=='red':\n",
    "                r = max(r, int(gameval[0]))\n",
    "            if gameval[1]=='blue':\n",
    "                b = max(b, int(gameval[0]))\n",
    "            if gameval[1]=='green':\n",
    "                g = max(g, int(gameval[0]))             \n",
    "    ans += (r*g*b)\n",
    "print(ans)"
   ]
  },
  {
   "cell_type": "code",
   "execution_count": null,
   "id": "9ddade6d",
   "metadata": {},
   "outputs": [],
   "source": []
  }
 ],
 "metadata": {
  "kernelspec": {
   "display_name": "Python 3 (ipykernel)",
   "language": "python",
   "name": "python3"
  },
  "language_info": {
   "codemirror_mode": {
    "name": "ipython",
    "version": 3
   },
   "file_extension": ".py",
   "mimetype": "text/x-python",
   "name": "python",
   "nbconvert_exporter": "python",
   "pygments_lexer": "ipython3",
   "version": "3.11.4"
  }
 },
 "nbformat": 4,
 "nbformat_minor": 5
}

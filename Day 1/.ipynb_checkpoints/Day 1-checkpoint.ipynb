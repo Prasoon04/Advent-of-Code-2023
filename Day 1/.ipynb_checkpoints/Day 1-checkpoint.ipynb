{
 "cells": [
  {
   "cell_type": "code",
   "execution_count": 77,
   "id": "9c1d1a83",
   "metadata": {},
   "outputs": [],
   "source": [
    "filepath = \"day1.txt\""
   ]
  },
  {
   "cell_type": "code",
   "execution_count": 78,
   "id": "432f1bbb",
   "metadata": {},
   "outputs": [],
   "source": [
    "dig_map = {\n",
    "    'one': '1',\n",
    "    'two': '2',\n",
    "    'three': '3',\n",
    "    'four': '4',\n",
    "    'five': '5',\n",
    "    'six': '6',\n",
    "    'seven': '7',\n",
    "    'eight': '8',\n",
    "    'nine': '9'\n",
    "}"
   ]
  },
  {
   "cell_type": "code",
   "execution_count": 132,
   "id": "2c8619bd",
   "metadata": {
    "scrolled": true
   },
   "outputs": [],
   "source": [
    "num_list = []\n",
    "with open(filepath, \"r\") as file:\n",
    "    for line in file:\n",
    "        digits = \"\"\n",
    "        nums = []\n",
    "        for c in line:\n",
    "            if c.isdigit():\n",
    "                nums.append(c)\n",
    "        if len(nums) > 1:\n",
    "            digits = nums[0]+nums[-1]\n",
    "        else:\n",
    "            digits = nums[0] + nums[0]\n",
    "        num_list.append(int(digits))      \n"
   ]
  },
  {
   "cell_type": "code",
   "execution_count": 133,
   "id": "c05b8d74",
   "metadata": {
    "scrolled": true
   },
   "outputs": [],
   "source": [
    "# Part 2\n",
    "\n",
    "num_list2 = []\n",
    "with open(filepath, \"r\") as file:\n",
    "    for line in file:\n",
    "        i = j = 0\n",
    "        digits = \"\"\n",
    "        c_digit = \"\"\n",
    "        nums = []\n",
    "        while i < len(line):      \n",
    "            if line[i].isdigit():\n",
    "                nums.append(line[i])\n",
    "                i += 1\n",
    "            else:\n",
    "                j = i\n",
    "                c_digit = \"\"\n",
    "                while j < len(line) and not line[j].isdigit():\n",
    "                    c_digit += line[j]\n",
    "                    if c_digit in dig_map:\n",
    "                        nums.append(dig_map[c_digit])\n",
    "                        break\n",
    "                    j += 1\n",
    "                i += 1                               \n",
    "        if len(nums) > 1:\n",
    "            digits = nums[0]+nums[-1]\n",
    "        else:\n",
    "            digits = nums[0] + nums[0]\n",
    "        num_list2.append(int(digits)) "
   ]
  },
  {
   "cell_type": "code",
   "execution_count": 134,
   "id": "60003b70",
   "metadata": {},
   "outputs": [
    {
     "data": {
      "text/plain": [
       "54968"
      ]
     },
     "execution_count": 134,
     "metadata": {},
     "output_type": "execute_result"
    }
   ],
   "source": [
    "sum(num_list)"
   ]
  },
  {
   "cell_type": "code",
   "execution_count": 135,
   "id": "1bf59a06",
   "metadata": {},
   "outputs": [
    {
     "data": {
      "text/plain": [
       "54094"
      ]
     },
     "execution_count": 135,
     "metadata": {},
     "output_type": "execute_result"
    }
   ],
   "source": [
    "sum(num_list2)"
   ]
  },
  {
   "cell_type": "code",
   "execution_count": null,
   "id": "3dc53288",
   "metadata": {},
   "outputs": [],
   "source": []
  }
 ],
 "metadata": {
  "kernelspec": {
   "display_name": "Python 3 (ipykernel)",
   "language": "python",
   "name": "python3"
  },
  "language_info": {
   "codemirror_mode": {
    "name": "ipython",
    "version": 3
   },
   "file_extension": ".py",
   "mimetype": "text/x-python",
   "name": "python",
   "nbconvert_exporter": "python",
   "pygments_lexer": "ipython3",
   "version": "3.11.4"
  }
 },
 "nbformat": 4,
 "nbformat_minor": 5
}

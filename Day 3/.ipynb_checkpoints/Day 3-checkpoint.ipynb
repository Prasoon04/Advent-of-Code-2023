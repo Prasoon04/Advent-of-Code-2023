{
 "cells": [
  {
   "cell_type": "code",
   "execution_count": 1,
   "id": "8871544b",
   "metadata": {},
   "outputs": [],
   "source": [
    "engine_schematic = [\n",
    "    \"467..114..\",\n",
    "    \"...*......\",\n",
    "    \"..35..633.\",\n",
    "    \"......#...\",\n",
    "    \"617*......\",\n",
    "    \".....+.58.\",\n",
    "    \"..592.....\",\n",
    "    \"......755.\",\n",
    "    \"...$.*....\",\n",
    "    \".664.598..\",\n",
    "]"
   ]
  },
  {
   "cell_type": "code",
   "execution_count": 2,
   "id": "9ae20366",
   "metadata": {
    "scrolled": true
   },
   "outputs": [],
   "source": [
    "engs = []\n",
    "with open(\"day3.txt\", \"r\") as file:\n",
    "    for line in file:\n",
    "        cleaned_line = line.strip()\n",
    "        if cleaned_line:  # Check if the line is not empty\n",
    "            engs.append(cleaned_line)"
   ]
  },
  {
   "cell_type": "code",
   "execution_count": 3,
   "id": "9742c4a5",
   "metadata": {},
   "outputs": [],
   "source": [
    "def symbol(i,j,es):\n",
    "    return True if es[i][j] != '.' else False"
   ]
  },
  {
   "cell_type": "code",
   "execution_count": 4,
   "id": "ea4be946",
   "metadata": {},
   "outputs": [],
   "source": [
    "def get_number(i,j,es):\n",
    "    C = len(es[0])\n",
    "    start = end = j\n",
    "\n",
    "    while end+1 < C and es[i][end+1].isdigit():\n",
    "        end += 1\n",
    "    while start-1 >= 0 and es[i][start-1].isdigit():\n",
    "        start -= 1\n",
    "    digit = es[i][start:end+1]\n",
    "    digit = int(digit)\n",
    "    return digit"
   ]
  },
  {
   "cell_type": "code",
   "execution_count": 5,
   "id": "94b6339e",
   "metadata": {},
   "outputs": [],
   "source": [
    "def sum_numbers(es):\n",
    "    final = []\n",
    "    total_sum = 0\n",
    "    ROWS = len(es)\n",
    "    COLS = len(es[0])\n",
    "    for row in range(ROWS):\n",
    "        seen = set()\n",
    "        for col in range(COLS):\n",
    "            char = es[row][col]\n",
    "            adjacent_symbols = []\n",
    "            if char.isdigit():\n",
    "                for i in range(row-1,row+2):\n",
    "                    for j in range(col-1,col+2):\n",
    "                        if 0<=i<ROWS and 0<=j<COLS and (i!=row or j!=col) and not es[i][j].isdigit():\n",
    "\n",
    "                            adjacent_symbols.append((i,j))\n",
    "                if any(symbol(i,j,es) for i,j in adjacent_symbols):\n",
    "                    num = get_number(row,col,es)\n",
    "\n",
    "                    if num not in seen:\n",
    "\n",
    "                        total_sum += num\n",
    "                        seen.add(num)\n",
    "            else:\n",
    "                seen.clear()\n",
    "\n",
    "    return total_sum\n"
   ]
  },
  {
   "cell_type": "code",
   "execution_count": 6,
   "id": "25e28a74",
   "metadata": {},
   "outputs": [
    {
     "data": {
      "text/plain": [
       "4361"
      ]
     },
     "execution_count": 6,
     "metadata": {},
     "output_type": "execute_result"
    }
   ],
   "source": [
    "sum_numbers(engine_schematic)"
   ]
  },
  {
   "cell_type": "code",
   "execution_count": 7,
   "id": "7819c8a2",
   "metadata": {},
   "outputs": [
    {
     "data": {
      "text/plain": [
       "553825"
      ]
     },
     "execution_count": 7,
     "metadata": {},
     "output_type": "execute_result"
    }
   ],
   "source": [
    "sum_numbers(engs)"
   ]
  },
  {
   "cell_type": "code",
   "execution_count": 8,
   "id": "dab7dbb5",
   "metadata": {},
   "outputs": [],
   "source": [
    "def sum_numbers2(es):\n",
    "    total_sum = 0\n",
    "    ROWS = len(es)\n",
    "    COLS = len(es[0])\n",
    "    for row in range(1,ROWS-1):\n",
    "\n",
    "        for col in range(COLS):\n",
    "            char = es[row][col]\n",
    "            adjacent_nums = set()\n",
    "            if char == '*':\n",
    "\n",
    "                \n",
    "                for i in range(row-1,row+2):\n",
    "                    for j in range(col-1,col+2):\n",
    "                        if 0<=i<ROWS and 0<=j<COLS and (i!=row or j!=col) and es[i][j].isdigit():\n",
    "                            num = get_number(i,j,es)\n",
    "                            if num not in adjacent_nums:\n",
    "                                adjacent_nums.add(num)\n",
    "                \n",
    "                if len(adjacent_nums) != 2:\n",
    "                    continue\n",
    "                else:\n",
    "\n",
    "                    nums = list(adjacent_nums)\n",
    "                    total_sum += (nums[0]*nums[1])\n",
    "\n",
    "    return total_sum\n"
   ]
  },
  {
   "cell_type": "code",
   "execution_count": 9,
   "id": "1f471f13",
   "metadata": {
    "scrolled": false
   },
   "outputs": [
    {
     "data": {
      "text/plain": [
       "93994191"
      ]
     },
     "execution_count": 9,
     "metadata": {},
     "output_type": "execute_result"
    }
   ],
   "source": [
    "sum_numbers2(engs)"
   ]
  },
  {
   "cell_type": "code",
   "execution_count": 10,
   "id": "f68af527",
   "metadata": {},
   "outputs": [
    {
     "data": {
      "text/plain": [
       "467835"
      ]
     },
     "execution_count": 10,
     "metadata": {},
     "output_type": "execute_result"
    }
   ],
   "source": [
    "sum_numbers2(engine_schematic)"
   ]
  },
  {
   "cell_type": "code",
   "execution_count": null,
   "id": "a546e591",
   "metadata": {},
   "outputs": [],
   "source": []
  }
 ],
 "metadata": {
  "kernelspec": {
   "display_name": "Python 3 (ipykernel)",
   "language": "python",
   "name": "python3"
  },
  "language_info": {
   "codemirror_mode": {
    "name": "ipython",
    "version": 3
   },
   "file_extension": ".py",
   "mimetype": "text/x-python",
   "name": "python",
   "nbconvert_exporter": "python",
   "pygments_lexer": "ipython3",
   "version": "3.11.4"
  }
 },
 "nbformat": 4,
 "nbformat_minor": 5
}
